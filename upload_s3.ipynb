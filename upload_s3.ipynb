{
 "cells": [
  {
   "cell_type": "code",
   "execution_count": 1,
   "metadata": {},
   "outputs": [
    {
     "data": {
      "text/plain": [
       "True"
      ]
     },
     "execution_count": 1,
     "metadata": {},
     "output_type": "execute_result"
    }
   ],
   "source": [
    "import os\n",
    "import boto3\n",
    "from botocore.exceptions import NoCredentialsError\n",
    "from dotenv import load_dotenv\n",
    "\n",
    "# Load environment variables from .env file\n",
    "load_dotenv()"
   ]
  },
  {
   "cell_type": "code",
   "execution_count": 3,
   "metadata": {},
   "outputs": [],
   "source": [
    "def upload_to_s3(local_file, bucket_name, s3_folder, s3_file_name):\n",
    "    # Get AWS credentials from environment variables\n",
    "    aws_access_key_id = os.getenv('AWS_ACCESS_KEY_ID')\n",
    "    aws_secret_access_key = os.getenv('AWS_SECRET_ACCESS_KEY')\n",
    "\n",
    "    # Initialize S3 client with credentials\n",
    "    s3 = boto3.client(\n",
    "        's3',\n",
    "        aws_access_key_id=aws_access_key_id,\n",
    "        aws_secret_access_key=aws_secret_access_key\n",
    "    )\n",
    "\n",
    "    try:\n",
    "        s3.upload_file(local_file, bucket_name, f\"{s3_folder}/{s3_file_name}\")\n",
    "        print(f\"Upload Successful: {s3_folder}/{s3_file_name}\")\n",
    "    except FileNotFoundError:\n",
    "        print(\"The file was not found\")\n",
    "    except NoCredentialsError:\n",
    "        print(\"Credentials not available\")\n",
    "\n"
   ]
  },
  {
   "cell_type": "code",
   "execution_count": 7,
   "metadata": {},
   "outputs": [
    {
     "name": "stdout",
     "output_type": "stream",
     "text": [
      "Upload Successful: CompaniesData/Statista/file.txt\n"
     ]
    }
   ],
   "source": [
    "# Example usage\n",
    "local_file = './sample.txt'\n",
    "bucket_name = 'omega-intel-doc-storage'\n",
    "s3_folder = 'CompaniesData/Statista'\n",
    "\n",
    "s3_file_name = 'file.txt'\n",
    "\n",
    "upload_to_s3(local_file, bucket_name, s3_folder, s3_file_name)"
   ]
  }
 ],
 "metadata": {
  "kernelspec": {
   "display_name": "rag_omega",
   "language": "python",
   "name": "python3"
  },
  "language_info": {
   "codemirror_mode": {
    "name": "ipython",
    "version": 3
   },
   "file_extension": ".py",
   "mimetype": "text/x-python",
   "name": "python",
   "nbconvert_exporter": "python",
   "pygments_lexer": "ipython3",
   "version": "3.10.15"
  }
 },
 "nbformat": 4,
 "nbformat_minor": 2
}
